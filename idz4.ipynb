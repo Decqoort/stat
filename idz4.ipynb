{
 "cells": [
  {
   "cell_type": "markdown",
   "id": "5c1f8284",
   "metadata": {},
   "source": [
    "## <div style = 'text-align: center'>Индивидуальное домашнее задание по статистическому анализу №4</div>\n",
    "\n",
    "Выполнил: Ибатов Николай Эдуардович\n",
    "\n",
    "Вариант 5."
   ]
  },
  {
   "attachments": {
    "Screenshot_55.png": {
     "image/png": "[encoded data removed]"
    }
   },
   "cell_type": "markdown",
   "id": "abb8cb37",
   "metadata": {},
   "source": [
    "**1.**![Screenshot_55.png](attachment:Screenshot_55.png)"
   ]
  },
  {
   "cell_type": "code",
   "execution_count": 18,
   "id": "af6c5f0a",
   "metadata": {},
   "outputs": [
    {
     "data": {
      "image/png": "[encoded data removed]",
      "text/plain": [
       "plot without title"
      ]
     },
     "metadata": {
      "image/png": {
       "height": 420,
       "width": 420
      }
     },
     "output_type": "display_data"
    }
   ],
   "source": [
    "Y<-c(2.22,9.55,10.23,8.20,10.21,12.16,0.19,8.18,9.34,8.04,13.31,10.42,10.43,12.94,8.77,12.24,11.62,8.24,11.23,10.41,0.66,10.30,2.99,11.63,2.06,1.36,12.21,7.25,9.30,10.82,10.91,11.35,0.54,1.79,1.76,0.72,13.29,6.25,10.17,7.08,13.86,9.59,7.14,1.09,8.30,10.81,1.15,11.39,5.35,1.11)\n",
    "X1<-c(0,2,2,1,1,1,0,2,3,3,3,2,3,1,1,1,3,2,1,1,0,3,0,2,0,0,1,3,1,2,3,3,0,0,0,0,3,1,3,2,3,2,3,0,1,3,0,1,2,0)\n",
    "a1<-0.02\n",
    "h<-1.20\n",
    "\n",
    "plot(X1,Y, col=\"orange\",pch=20)\n",
    "X<-factor(X1)"
   ]
  },
  {
   "attachments": {
    "Screenshot_56.png": {
     "image/png": "[encoded data removed]"
    }
   },
   "cell_type": "markdown",
   "id": "07b9cb01",
   "metadata": {},
   "source": [
    "**2.**![Screenshot_56.png](attachment:Screenshot_56.png)"
   ]
  },
  {
   "cell_type": "markdown",
   "id": "a8f49775",
   "metadata": {},
   "source": [
    "$(Y_1, x_1), ..., (Y_n,x_n)$ - набор наблюдений\n",
    "\n",
    "Модель:\n",
    "\n",
    "$E_\\theta(Y | x=i)=\\eta_i$\n",
    "\n",
    "$Y_{ij}$ - j-е наблюдение в i-й группе\n",
    "\n",
    "$Y_{i1}, ..., Y_{in_i}$ - выборка из $N(\\eta_i,\\sigma^2)$\n",
    "\n",
    "Если $n_1=n_2=...=n_n$, то модель называется сбалансированной.\n",
    "\n",
    "$\\epsilon_{ij} = Y_{ij} - \\eta_i$\n",
    "\n",
    "$||\\epsilon|| \\rightarrow min$\n",
    "\n",
    "$||\\epsilon|| = \\sum_{ij}(Y_{ij}-\\eta_i)^2$\n",
    "\n",
    "$\\hat{\\eta_i}=\\frac{\\sum_{i=1}^{n_i}Y_i}{n_i}$ - оценкой для параметров является выборочное среднее в группе.\n",
    "\n",
    "$\\hat\\eta_{i} \\sim N(\\eta_i,\\frac{\\sigma^2}{n_i})$\n",
    "\n",
    "Несмещенная оценка дисперсии имеет вид\n",
    "\n",
    "$\\hat{\\sigma}^2 = \\frac{||\\epsilon||}{n-r}=\\frac{||Y - X^T\\beta||}{n-r}=\\frac{S^2}{n-r}$\n",
    "\n",
    "Стандартное нормальное распределение:\n",
    "$$\\widehat{\\eta_i} \\sim N(\\eta_i, \\frac{\\sigma^2}{n_i})$$\n",
    "$$\\frac{\\widehat{\\eta_i}-\\eta_i}{\\sqrt{\\frac{\\sigma^2}{n_i}}} \\sim N(0, 1)$$\n",
    "\n",
    "$$\\chi^2: \\frac{(n-r)S^2}{\\sigma^2} \\sim \\chi_{n-r}^2$$\n",
    "Распределение Cтьюдента:\n",
    "$$\\frac{\\frac{\\widehat{\\eta_i}-\\eta_i}{\\sqrt{\\frac{\\sigma^2}{n_i}}}}{\\sqrt{\\frac{1}{n-r}\\frac{(n-r)S^2}{\\sigma^2}}} \\sim S_{n-r}$$\n",
    "\n",
    "Получаем:\n",
    "\n",
    "$$\\frac{\\widehat{\\eta_i}-\\eta_i}{\\sqrt{\\frac{S^2}{n_i}}} \\sim S_{46}$$\n",
    "\n",
    "$$P(-X_{\\alpha/2} < \\frac{\\widehat{\\eta_i}-\\eta_i}{\\sqrt{\\frac{S^2}{n_i}}} < X_{\\alpha/2} ) = 1 -\\alpha$$\n",
    "\n",
    "$$P(\\widehat{\\eta}-X_{\\alpha/2}\\sqrt{\\frac{S^2}{n_i}} < \\eta < \\widehat{\\eta}+X_{\\alpha/2}\\sqrt{\\frac{S^2}{n_i}} ) = 1 -\\alpha$$\n"
   ]
  },
  {
   "cell_type": "code",
   "execution_count": 19,
   "id": "82237d59",
   "metadata": {},
   "outputs": [
    {
     "data": {
      "text/html": [
       "<table class=\"dataframe\">\n",
       "<caption>A data.frame: 4 × 2</caption>\n",
       "<thead>\n",
       "\t<tr><th scope=col>Group.1</th><th scope=col>x</th></tr>\n",
       "\t<tr><th scope=col>&lt;fct&gt;</th><th scope=col>&lt;int&gt;</th></tr>\n",
       "</thead>\n",
       "<tbody>\n",
       "\t<tr><td>0</td><td>13</td></tr>\n",
       "\t<tr><td>1</td><td>13</td></tr>\n",
       "\t<tr><td>2</td><td>10</td></tr>\n",
       "\t<tr><td>3</td><td>14</td></tr>\n",
       "</tbody>\n",
       "</table>\n"
      ],
      "text/latex": [
       "A data.frame: 4 × 2\n",
       "\\begin{tabular}{ll}\n",
       " Group.1 & x\\\\\n",
       " <fct> & <int>\\\\\n",
       "\\hline\n",
       "\t 0 & 13\\\\\n",
       "\t 1 & 13\\\\\n",
       "\t 2 & 10\\\\\n",
       "\t 3 & 14\\\\\n",
       "\\end{tabular}\n"
      ],
      "text/markdown": [
       "\n",
       "A data.frame: 4 × 2\n",
       "\n",
       "| Group.1 &lt;fct&gt; | x &lt;int&gt; |\n",
       "|---|---|\n",
       "| 0 | 13 |\n",
       "| 1 | 13 |\n",
       "| 2 | 10 |\n",
       "| 3 | 14 |\n",
       "\n"
      ],
      "text/plain": [
       "  Group.1 x \n",
       "1 0       13\n",
       "2 1       13\n",
       "3 2       10\n",
       "4 3       14"
      ]
     },
     "metadata": {},
     "output_type": "display_data"
    }
   ],
   "source": [
    "gs<-aggregate(Y,list(X),FUN=length)\n",
    "gs\n",
    "gs<-gs$x"
   ]
  },
  {
   "cell_type": "code",
   "execution_count": 20,
   "id": "25ca738d",
   "metadata": {},
   "outputs": [
    {
     "data": {
      "text/html": [
       "<table class=\"dataframe\">\n",
       "<caption>A data.frame: 4 × 2</caption>\n",
       "<thead>\n",
       "\t<tr><th scope=col>Group.1</th><th scope=col>x</th></tr>\n",
       "\t<tr><th scope=col>&lt;fct&gt;</th><th scope=col>&lt;dbl&gt;</th></tr>\n",
       "</thead>\n",
       "<tbody>\n",
       "\t<tr><td>0</td><td> 1.356923</td></tr>\n",
       "\t<tr><td>1</td><td>10.277692</td></tr>\n",
       "\t<tr><td>2</td><td> 9.109000</td></tr>\n",
       "\t<tr><td>3</td><td>10.558571</td></tr>\n",
       "</tbody>\n",
       "</table>\n"
      ],
      "text/latex": [
       "A data.frame: 4 × 2\n",
       "\\begin{tabular}{ll}\n",
       " Group.1 & x\\\\\n",
       " <fct> & <dbl>\\\\\n",
       "\\hline\n",
       "\t 0 &  1.356923\\\\\n",
       "\t 1 & 10.277692\\\\\n",
       "\t 2 &  9.109000\\\\\n",
       "\t 3 & 10.558571\\\\\n",
       "\\end{tabular}\n"
      ],
      "text/markdown": [
       "\n",
       "A data.frame: 4 × 2\n",
       "\n",
       "| Group.1 &lt;fct&gt; | x &lt;dbl&gt; |\n",
       "|---|---|\n",
       "| 0 |  1.356923 |\n",
       "| 1 | 10.277692 |\n",
       "| 2 |  9.109000 |\n",
       "| 3 | 10.558571 |\n",
       "\n"
      ],
      "text/plain": [
       "  Group.1 x        \n",
       "1 0        1.356923\n",
       "2 1       10.277692\n",
       "3 2        9.109000\n",
       "4 3       10.558571"
      ]
     },
     "metadata": {},
     "output_type": "display_data"
    }
   ],
   "source": [
    "tmp<-aggregate(Y,list(X),FUN=mean)\n",
    "tmp\n",
    "means<-tmp$x"
   ]
  },
  {
   "cell_type": "code",
   "execution_count": 22,
   "id": "70dac3b1",
   "metadata": {},
   "outputs": [
    {
     "data": {
      "text/html": [
       "3.18539063306259"
      ],
      "text/latex": [
       "3.18539063306259"
      ],
      "text/markdown": [
       "3.18539063306259"
      ],
      "text/plain": [
       "[1] 3.185391"
      ]
     },
     "metadata": {},
     "output_type": "display_data"
    }
   ],
   "source": [
    "f1<-function(group) {\n",
    "    mean<-mean(group)\n",
    "    return ((group-mean)^2)\n",
    "}\n",
    "\n",
    "n<-length(Y)\n",
    "\n",
    "lst<-aggregate(Y,list(X),FUN=f1)$x\n",
    "\n",
    "ssq<-sum(sapply(lst, sum))\n",
    "ssq/(n-4)"
   ]
  },
  {
   "cell_type": "code",
   "execution_count": 23,
   "id": "e35a1621",
   "metadata": {},
   "outputs": [
    {
     "data": {
      "text/html": [
       "<table class=\"dataframe\">\n",
       "<caption>A data.frame: 4 × 3</caption>\n",
       "<thead>\n",
       "\t<tr><th scope=col>levels.X.</th><th scope=col>left</th><th scope=col>right</th></tr>\n",
       "\t<tr><th scope=col>&lt;chr&gt;</th><th scope=col>&lt;dbl&gt;</th><th scope=col>&lt;dbl&gt;</th></tr>\n",
       "</thead>\n",
       "<tbody>\n",
       "\t<tr><td>0</td><td>-6.7347723</td><td> 9.448618</td></tr>\n",
       "\t<tr><td>1</td><td> 2.1859969</td><td>18.369388</td></tr>\n",
       "\t<tr><td>2</td><td>-0.1169522</td><td>18.334952</td></tr>\n",
       "\t<tr><td>3</td><td> 2.7612186</td><td>18.355924</td></tr>\n",
       "</tbody>\n",
       "</table>\n"
      ],
      "text/latex": [
       "A data.frame: 4 × 3\n",
       "\\begin{tabular}{lll}\n",
       " levels.X. & left & right\\\\\n",
       " <chr> & <dbl> & <dbl>\\\\\n",
       "\\hline\n",
       "\t 0 & -6.7347723 &  9.448618\\\\\n",
       "\t 1 &  2.1859969 & 18.369388\\\\\n",
       "\t 2 & -0.1169522 & 18.334952\\\\\n",
       "\t 3 &  2.7612186 & 18.355924\\\\\n",
       "\\end{tabular}\n"
      ],
      "text/markdown": [
       "\n",
       "A data.frame: 4 × 3\n",
       "\n",
       "| levels.X. &lt;chr&gt; | left &lt;dbl&gt; | right &lt;dbl&gt; |\n",
       "|---|---|---|\n",
       "| 0 | -6.7347723 |  9.448618 |\n",
       "| 1 |  2.1859969 | 18.369388 |\n",
       "| 2 | -0.1169522 | 18.334952 |\n",
       "| 3 |  2.7612186 | 18.355924 |\n",
       "\n"
      ],
      "text/plain": [
       "  levels.X. left       right    \n",
       "1 0         -6.7347723  9.448618\n",
       "2 1          2.1859969 18.369388\n",
       "3 2         -0.1169522 18.334952\n",
       "4 3          2.7612186 18.355924"
      ]
     },
     "metadata": {},
     "output_type": "display_data"
    }
   ],
   "source": [
    "q <- qt(1-a1/2,n-4) * sqrt(ssq/gs)  \n",
    "df<-data.frame(levels(X),\"left\"=means-q,\"right\"=means+q)\n",
    "df"
   ]
  },
  {
   "attachments": {
    "Screenshot_57.png": {
     "image/png": "[encoded data removed]"
    }
   },
   "cell_type": "markdown",
   "id": "fd3b58c8",
   "metadata": {},
   "source": [
    "**3.**![Screenshot_57.png](attachment:Screenshot_57.png)"
   ]
  },
  {
   "cell_type": "markdown",
   "id": "69a19865",
   "metadata": {},
   "source": [
    "$E(Y_{ij} |(z_i=j))=\\mu + \\alpha_i$\n",
    "\n",
    "$Y_{ij} \\sim N(\\mu + \\alpha_i,\\sigma_i^2)$\n",
    "\n",
    "$\\mu + \\alpha_i=\\eta_i$\n",
    "\n",
    "$\\mu = \\eta_4$\n",
    "\n",
    "$\\epsilon_{ij} = Y_{ij} - \\mu - \\alpha_i$\n",
    "\n",
    "$||\\epsilon|| \\rightarrow min$\n",
    "\n",
    "$||\\epsilon|| = \\sum_{ij}(Y_{ij}-\\mu - \\alpha_i)^2$\n",
    "\n",
    "$\\hat{\\eta_i}=\\frac{\\sum_{i=1}^{n_i}Y_i}{n_i}$ - оценкой для параметров является выборочное среднее в группе.\n",
    "\n",
    "$\\hat\\mu = \\hat\\eta_4$\n",
    "\n",
    "$\\hat\\alpha_i=\\hat\\eta_i - \\hat\\mu$\n",
    "\n",
    "$\\hat\\mu \\sim N(\\mu,\\frac{\\sigma^2}{n_4})$\n",
    "\n",
    "$\\hat a_{i} \\sim N(\\eta_i - \\mu,\\sigma^2\\frac{n_4+n_i}{n_in_4})$\n",
    "\n",
    "Несмещенная оценка дисперсии имеет вид\n",
    "\n",
    "$\\hat{\\sigma}^2 =\\frac{\\sum(Y_{ij} - \\mu - \\alpha_i)^2}{n-r}$\n",
    "\n",
    "$S^2=\\sum(Y_{ij} - \\eta_i + \\mu)^2$\n",
    "\n",
    "\n",
    "Стандартное нормальное распределение:\n",
    "$$\\widehat{a_{i}} \\sim N(\\eta_i - \\mu, \\sigma^2\\frac{n_4+n_i}{n_in_4})$$\n",
    "$$\\frac{\\widehat{a_i}-\\eta_i + \\mu}{\\sqrt{\\sigma^2\\frac{n_4+n_i}{n_in_4}}} \\sim N(0, 1)$$\n",
    "\n",
    "$$\\chi^2:\\frac{(n-r)S^2}{\\sigma^2} \\sim \\chi_{n-r}^2$$\n",
    "Распределение Cтьюдента:\n",
    "$$\\frac{\\frac{\\widehat{a_i}-\\eta_i + \\mu}{\\sqrt{\\sigma^2\\frac{n_4+n_i}{n_in_4}}}}{\\sqrt{\\frac{1}{n-r}\\frac{(n-r)S^2}{\\sigma^2}}} \\sim S_{n-r}$$\n",
    "\n",
    "Получаем:\n",
    "\n",
    "$$\\frac{\\widehat{a_i}-\\eta_i + \\mu}{\\sqrt{\\frac{n_4+n_i}{n_in_4}S^2}} \\sim S_{46}$$\n",
    "\n",
    "$$P(-X_{\\alpha/2} < \\frac{\\widehat{a_i}-\\eta_i + \\mu}{\\sqrt{\\frac{n_4+n_i}{n_in_4}S^2}} < X_{\\alpha/2} ) = 1 -\\alpha$$\n",
    "\n",
    "$$P(\\hat\\eta_i - \\hat\\mu-X_{\\alpha/2}\\sqrt{\\frac{n_4+n_i}{n_in_4}S^2} < a_i < \\hat\\eta_i - \\hat\\mu+X_{\\alpha/2}\\sqrt{\\frac{n_4+n_i}{n_in_4}S^2} ) = 1 -\\alpha$$\n",
    "\n"
   ]
  },
  {
   "cell_type": "code",
   "execution_count": 24,
   "id": "9400f514",
   "metadata": {},
   "outputs": [
    {
     "name": "stdout",
     "output_type": "stream",
     "text": [
      "mu 10.55857 \n"
     ]
    },
    {
     "data": {
      "text/html": [
       "<table class=\"dataframe\">\n",
       "<caption>A data.frame: 4 × 2</caption>\n",
       "<thead>\n",
       "\t<tr><th scope=col>levels.X.</th><th scope=col>a</th></tr>\n",
       "\t<tr><th scope=col>&lt;chr&gt;</th><th scope=col>&lt;dbl&gt;</th></tr>\n",
       "</thead>\n",
       "<tbody>\n",
       "\t<tr><td>0</td><td>-9.2016484</td></tr>\n",
       "\t<tr><td>1</td><td>-0.2808791</td></tr>\n",
       "\t<tr><td>2</td><td>-1.4495714</td></tr>\n",
       "\t<tr><td>3</td><td> 0.0000000</td></tr>\n",
       "</tbody>\n",
       "</table>\n"
      ],
      "text/latex": [
       "A data.frame: 4 × 2\n",
       "\\begin{tabular}{ll}\n",
       " levels.X. & a\\\\\n",
       " <chr> & <dbl>\\\\\n",
       "\\hline\n",
       "\t 0 & -9.2016484\\\\\n",
       "\t 1 & -0.2808791\\\\\n",
       "\t 2 & -1.4495714\\\\\n",
       "\t 3 &  0.0000000\\\\\n",
       "\\end{tabular}\n"
      ],
      "text/markdown": [
       "\n",
       "A data.frame: 4 × 2\n",
       "\n",
       "| levels.X. &lt;chr&gt; | a &lt;dbl&gt; |\n",
       "|---|---|\n",
       "| 0 | -9.2016484 |\n",
       "| 1 | -0.2808791 |\n",
       "| 2 | -1.4495714 |\n",
       "| 3 |  0.0000000 |\n",
       "\n"
      ],
      "text/plain": [
       "  levels.X. a         \n",
       "1 0         -9.2016484\n",
       "2 1         -0.2808791\n",
       "3 2         -1.4495714\n",
       "4 3          0.0000000"
      ]
     },
     "metadata": {},
     "output_type": "display_data"
    },
    {
     "data": {
      "text/html": [
       "3.18539063306259"
      ],
      "text/latex": [
       "3.18539063306259"
      ],
      "text/markdown": [
       "3.18539063306259"
      ],
      "text/plain": [
       "[1] 3.185391"
      ]
     },
     "metadata": {},
     "output_type": "display_data"
    },
    {
     "data": {
      "text/html": [
       "<table class=\"dataframe\">\n",
       "<caption>A data.frame: 4 × 3</caption>\n",
       "<thead>\n",
       "\t<tr><th scope=col>levels.X.</th><th scope=col>left</th><th scope=col>right</th></tr>\n",
       "\t<tr><th scope=col>&lt;chr&gt;</th><th scope=col>&lt;dbl&gt;</th><th scope=col>&lt;dbl&gt;</th></tr>\n",
       "</thead>\n",
       "<tbody>\n",
       "\t<tr><td>0</td><td>-19.056194</td><td>0.6528973</td></tr>\n",
       "\t<tr><td>1</td><td>-10.135425</td><td>9.5736666</td></tr>\n",
       "\t<tr><td>2</td><td>-12.042890</td><td>9.1437469</td></tr>\n",
       "\t<tr><td>3</td><td> -9.670332</td><td>9.6703323</td></tr>\n",
       "</tbody>\n",
       "</table>\n"
      ],
      "text/latex": [
       "A data.frame: 4 × 3\n",
       "\\begin{tabular}{lll}\n",
       " levels.X. & left & right\\\\\n",
       " <chr> & <dbl> & <dbl>\\\\\n",
       "\\hline\n",
       "\t 0 & -19.056194 & 0.6528973\\\\\n",
       "\t 1 & -10.135425 & 9.5736666\\\\\n",
       "\t 2 & -12.042890 & 9.1437469\\\\\n",
       "\t 3 &  -9.670332 & 9.6703323\\\\\n",
       "\\end{tabular}\n"
      ],
      "text/markdown": [
       "\n",
       "A data.frame: 4 × 3\n",
       "\n",
       "| levels.X. &lt;chr&gt; | left &lt;dbl&gt; | right &lt;dbl&gt; |\n",
       "|---|---|---|\n",
       "| 0 | -19.056194 | 0.6528973 |\n",
       "| 1 | -10.135425 | 9.5736666 |\n",
       "| 2 | -12.042890 | 9.1437469 |\n",
       "| 3 |  -9.670332 | 9.6703323 |\n",
       "\n"
      ],
      "text/plain": [
       "  levels.X. left       right    \n",
       "1 0         -19.056194 0.6528973\n",
       "2 1         -10.135425 9.5736666\n",
       "3 2         -12.042890 9.1437469\n",
       "4 3          -9.670332 9.6703323"
      ]
     },
     "metadata": {},
     "output_type": "display_data"
    }
   ],
   "source": [
    "mu<-means[4]\n",
    "cat(\"mu\",mu, \"\\n\")\n",
    "a<-means-mu\n",
    "df<-data.frame(levels(X),a)\n",
    "df\n",
    "\n",
    "f2<-function(group) {\n",
    "    a<-mean(group)-mu\n",
    "    return ((group-mu-a)^2)\n",
    "}\n",
    "\n",
    "n<-length(Y)\n",
    "\n",
    "lst<-aggregate(Y,list(X),FUN=f2)$x\n",
    "\n",
    "ssq<-sum(sapply(lst, sum))\n",
    "ssq/(n-4)\n",
    "\n",
    "q <- qt(1-a1,n-4) * sqrt((gs+gs[4])*ssq/(gs*gs[4]))  \n",
    "df<-data.frame(levels(X),\"left\"=means-mu-q,\"right\"=means-mu+q)\n",
    "df"
   ]
  },
  {
   "attachments": {
    "Screenshot_58.png": {
     "image/png": "[encoded data removed]"
    }
   },
   "cell_type": "markdown",
   "id": "5dd1677f",
   "metadata": {},
   "source": [
    "**4.**![Screenshot_58.png](attachment:Screenshot_58.png)"
   ]
  },
  {
   "cell_type": "code",
   "execution_count": 28,
   "id": "507dd3bb",
   "metadata": {},
   "outputs": [
    {
     "data": {
      "image/png": "[encoded data removed]",
      "text/plain": [
       "plot without title"
      ]
     },
     "metadata": {
      "image/png": {
       "height": 420,
       "width": 420
      }
     },
     "output_type": "display_data"
    }
   ],
   "source": [
    "plot(X1, Y, col=\"orange\",pch=20)\n",
    "lines(c(0:3), means, 'l',lwd=4, col=\"lightblue\")"
   ]
  },
  {
   "attachments": {
    "Screenshot_59.png": {
     "image/png": "[encoded data removed]"
    }
   },
   "cell_type": "markdown",
   "id": "676833fc",
   "metadata": {},
   "source": [
    "**5.**![Screenshot_59.png](attachment:Screenshot_59.png)"
   ]
  },
  {
   "cell_type": "code",
   "execution_count": 32,
   "id": "18c51673",
   "metadata": {},
   "outputs": [
    {
     "data": {
      "text/html": [
       "0.485366903043717"
      ],
      "text/latex": [
       "0.485366903043717"
      ],
      "text/markdown": [
       "0.485366903043717"
      ],
      "text/plain": [
       "[1] 0.4853669"
      ]
     },
     "metadata": {},
     "output_type": "display_data"
    },
    {
     "data": {
      "text/html": [
       "2.20305745514541"
      ],
      "text/latex": [
       "2.20305745514541"
      ],
      "text/markdown": [
       "2.20305745514541"
      ],
      "text/plain": [
       "[1] 2.203057"
      ]
     },
     "metadata": {},
     "output_type": "display_data"
    },
    {
     "data": {
      "image/png": "[encoded data removed]",
      "text/plain": [
       "Plot with title \"Histogram of eps\""
      ]
     },
     "metadata": {
      "image/png": {
       "height": 420,
       "width": 420
      }
     },
     "output_type": "display_data"
    }
   ],
   "source": [
    "f3<-function(group) {\n",
    "    mean<-mean(group)\n",
    "    return (group-mean)\n",
    "}\n",
    "\n",
    "n<-length(Y)\n",
    "\n",
    "eps<-sort(unlist(aggregate(Y,list(X),FUN=f3)$x))\n",
    "hist(eps,breaks=seq(-5,4,h))\n",
    "lines(seq(-5,4,h)-h/2,n* dnorm(seq(-5,4,h)-h/2, 0, sqrt(2.20305745514541)), 'l',lwd=4)\n",
    "\n",
    "i<-1:n\n",
    "v2<-(i-1)/n\n",
    "v3<-i/n\n",
    "\n",
    "ks <- function(p){\n",
    "  p0 <- pnorm(eps, 0, p)\n",
    "  return(max(abs(v2-p0), abs(v3-p0)))\n",
    "}\n",
    "nlm<-nlm(ks,sqrt(var(eps)))\n",
    "sqrt(n)*nlm$minimum\n",
    "nlm$estimate^2"
   ]
  },
  {
   "attachments": {
    "Screenshot_60.png": {
     "image/png": "[encoded data removed]"
    }
   },
   "cell_type": "markdown",
   "id": "a3efbf41",
   "metadata": {},
   "source": [
    "**6.**![Screenshot_60.png](attachment:Screenshot_60.png)"
   ]
  },
  {
   "cell_type": "markdown",
   "id": "a9a20c72",
   "metadata": {},
   "source": [
    "$SST = SSW + SSB$\n",
    "\n",
    "$SSW = \\sum_{ij}(Y_{ij}-\\bar Y_{i+})^2$\n",
    "\n",
    "$SSB = \\sum_{ij}n_i(\\bar Y_{i+}-\\bar Y_{++})^2$"
   ]
  },
  {
   "cell_type": "code",
   "execution_count": 35,
   "id": "2aa824b1",
   "metadata": {},
   "outputs": [
    {
     "data": {
      "text/html": [
       "<table class=\"dataframe\">\n",
       "<caption>A data.frame: 3 × 3</caption>\n",
       "<thead>\n",
       "\t<tr><th scope=col>source</th><th scope=col>sum.sq</th><th scope=col>DOF</th></tr>\n",
       "\t<tr><th scope=col>&lt;chr&gt;</th><th scope=col>&lt;dbl&gt;</th><th scope=col>&lt;dbl&gt;</th></tr>\n",
       "</thead>\n",
       "<tbody>\n",
       "\t<tr><td>Внутри групп  </td><td>146.5280</td><td>46</td></tr>\n",
       "\t<tr><td>Между группами</td><td>743.1489</td><td> 3</td></tr>\n",
       "\t<tr><td>Всего         </td><td>889.6769</td><td>49</td></tr>\n",
       "</tbody>\n",
       "</table>\n"
      ],
      "text/latex": [
       "A data.frame: 3 × 3\n",
       "\\begin{tabular}{lll}\n",
       " source & sum.sq & DOF\\\\\n",
       " <chr> & <dbl> & <dbl>\\\\\n",
       "\\hline\n",
       "\t Внутри групп   & 146.5280 & 46\\\\\n",
       "\t Между группами & 743.1489 &  3\\\\\n",
       "\t Всего          & 889.6769 & 49\\\\\n",
       "\\end{tabular}\n"
      ],
      "text/markdown": [
       "\n",
       "A data.frame: 3 × 3\n",
       "\n",
       "| source &lt;chr&gt; | sum.sq &lt;dbl&gt; | DOF &lt;dbl&gt; |\n",
       "|---|---|---|\n",
       "| Внутри групп   | 146.5280 | 46 |\n",
       "| Между группами | 743.1489 |  3 |\n",
       "| Всего          | 889.6769 | 49 |\n",
       "\n"
      ],
      "text/plain": [
       "  source         sum.sq   DOF\n",
       "1 Внутри групп   146.5280 46 \n",
       "2 Между группами 743.1489  3 \n",
       "3 Всего          889.6769 49 "
      ]
     },
     "metadata": {},
     "output_type": "display_data"
    }
   ],
   "source": [
    "f4<-function(group) {\n",
    "    mean<-mean(group)\n",
    "    return ((group-mean)^2)\n",
    "}\n",
    "\n",
    "g.mean<-mean(Y)\n",
    "\n",
    "n<-length(Y)\n",
    "tmp<-aggregate(Y,list(X),FUN=f4)$x\n",
    "lst<-sapply(tmp, sum)\n",
    "\n",
    "r<-length(levels(X))\n",
    "\n",
    "DOF<-c(n-r,r-1,n-1)\n",
    "sum.sq<-c(sum(lst),sum(gs*(means-g.mean)^2),sum(lst)+sum(gs*(means-g.mean)^2))\n",
    "mean.sq<-sum.sq/DOF\n",
    "\n",
    "table<-data.frame(\"source\"=c(\"Внутри групп\",\"Между группами\",\"Всего\"),sum.sq,DOF)\n",
    "table"
   ]
  },
  {
   "cell_type": "code",
   "execution_count": null,
   "id": "1437eb99",
   "metadata": {},
   "outputs": [],
   "source": []
  }
 ],
 "metadata": {
  "kernelspec": {
   "display_name": "R",
   "language": "R",
   "name": "ir"
  },
  "language_info": {
   "codemirror_mode": "r",
   "file_extension": ".r",
   "mimetype": "text/x-r-source",
   "name": "R",
   "pygments_lexer": "r",
   "version": "4.2.1"
  }
 },
 "nbformat": 4,
 "nbformat_minor": 5
}
